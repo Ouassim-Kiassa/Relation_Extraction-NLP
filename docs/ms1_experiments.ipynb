{
 "cells": [
  {
   "cell_type": "markdown",
   "metadata": {},
   "source": [
    "# Milestone 1 - Model Exploration"
   ]
  },
  {
   "cell_type": "code",
   "execution_count": 1,
   "metadata": {},
   "outputs": [
    {
     "name": "stdout",
     "output_type": "stream",
     "text": [
      "/Users/godlinn/Documents/Studium/WS2022/NLP/project-team14\n"
     ]
    }
   ],
   "source": [
    "%load_ext autoreload\n",
    "%autoreload 2\n",
    "%cd ../"
   ]
  },
  {
   "cell_type": "code",
   "execution_count": 2,
   "metadata": {},
   "outputs": [
    {
     "name": "stderr",
     "output_type": "stream",
     "text": [
      "[nltk_data] Downloading package stopwords to\n",
      "[nltk_data]     /Users/godlinn/nltk_data...\n",
      "[nltk_data]   Package stopwords is already up-to-date!\n",
      "[nltk_data] Downloading package wordnet to /Users/godlinn/nltk_data...\n",
      "[nltk_data]   Package wordnet is already up-to-date!\n",
      "[nltk_data] Downloading package omw-1.4 to /Users/godlinn/nltk_data...\n",
      "[nltk_data]   Package omw-1.4 is already up-to-date!\n"
     ]
    },
    {
     "data": {
      "text/plain": [
       "True"
      ]
     },
     "execution_count": 2,
     "metadata": {},
     "output_type": "execute_result"
    }
   ],
   "source": [
    "import nltk\n",
    "nltk.download('stopwords')\n",
    "nltk.download('wordnet')\n",
    "nltk.download('omw-1.4')"
   ]
  },
  {
   "cell_type": "code",
   "execution_count": 3,
   "metadata": {},
   "outputs": [
    {
     "name": "stderr",
     "output_type": "stream",
     "text": [
      "/usr/local/lib/python3.9/site-packages/tqdm/auto.py:22: TqdmWarning: IProgress not found. Please update jupyter and ipywidgets. See https://ipywidgets.readthedocs.io/en/stable/user_install.html\n",
      "  from .autonotebook import tqdm as notebook_tqdm\n"
     ]
    }
   ],
   "source": [
    "from tuwnlpie.milestone1.utils import split_train_dev_test,prepare_dataset,lemmatize_dataset,transform_to_dictionary,train_NaiveBayes,show_features,evaluate_nltk_nb,test_prediction_for_new_sentence,split_train_test_sklearn,train_multi_nb_classifier,train_svm_classifier,undersampling_dataset\n",
    "from scripts.evaluate import eval_model"
   ]
  },
  {
   "cell_type": "code",
   "execution_count": 4,
   "metadata": {},
   "outputs": [
    {
     "data": {
      "text/html": [
       "<div>\n",
       "<style scoped>\n",
       "    .dataframe tbody tr th:only-of-type {\n",
       "        vertical-align: middle;\n",
       "    }\n",
       "\n",
       "    .dataframe tbody tr th {\n",
       "        vertical-align: top;\n",
       "    }\n",
       "\n",
       "    .dataframe thead th {\n",
       "        text-align: right;\n",
       "    }\n",
       "</style>\n",
       "<table border=\"1\" class=\"dataframe\">\n",
       "  <thead>\n",
       "    <tr style=\"text-align: right;\">\n",
       "      <th></th>\n",
       "      <th>sentence</th>\n",
       "      <th>target</th>\n",
       "    </tr>\n",
       "  </thead>\n",
       "  <tbody>\n",
       "    <tr>\n",
       "      <th>0</th>\n",
       "      <td>Interestingly, many Indian tribes use Bombax c...</td>\n",
       "      <td>treat</td>\n",
       "    </tr>\n",
       "    <tr>\n",
       "      <th>1</th>\n",
       "      <td>Ultra-processed food consumption has been asso...</td>\n",
       "      <td>cause</td>\n",
       "    </tr>\n",
       "    <tr>\n",
       "      <th>2</th>\n",
       "      <td>Salt has notoriously been blamed for causing a...</td>\n",
       "      <td>cause</td>\n",
       "    </tr>\n",
       "    <tr>\n",
       "      <th>3</th>\n",
       "      <td>in broiler chicken flocks when animal-based me...</td>\n",
       "      <td>neutral</td>\n",
       "    </tr>\n",
       "    <tr>\n",
       "      <th>4</th>\n",
       "      <td>In short, this study demonstrated that SFP cou...</td>\n",
       "      <td>treat</td>\n",
       "    </tr>\n",
       "    <tr>\n",
       "      <th>...</th>\n",
       "      <td>...</td>\n",
       "      <td>...</td>\n",
       "    </tr>\n",
       "    <tr>\n",
       "      <th>603</th>\n",
       "      <td>Thus, the inclusion of food sources of dietary...</td>\n",
       "      <td>treat</td>\n",
       "    </tr>\n",
       "    <tr>\n",
       "      <th>604</th>\n",
       "      <td>Glasshouse pathogenicity tests with 'Reed' avo...</td>\n",
       "      <td>neutral</td>\n",
       "    </tr>\n",
       "    <tr>\n",
       "      <th>605</th>\n",
       "      <td>Intake of beverages with excess free fructose ...</td>\n",
       "      <td>cause</td>\n",
       "    </tr>\n",
       "    <tr>\n",
       "      <th>606</th>\n",
       "      <td>However, some evidence exists regarding a pote...</td>\n",
       "      <td>treat</td>\n",
       "    </tr>\n",
       "    <tr>\n",
       "      <th>607</th>\n",
       "      <td>There is no doubt that folic acid fortificatio...</td>\n",
       "      <td>treat</td>\n",
       "    </tr>\n",
       "  </tbody>\n",
       "</table>\n",
       "<p>608 rows × 2 columns</p>\n",
       "</div>"
      ],
      "text/plain": [
       "                                              sentence   target\n",
       "0    Interestingly, many Indian tribes use Bombax c...    treat\n",
       "1    Ultra-processed food consumption has been asso...    cause\n",
       "2    Salt has notoriously been blamed for causing a...    cause\n",
       "3    in broiler chicken flocks when animal-based me...  neutral\n",
       "4    In short, this study demonstrated that SFP cou...    treat\n",
       "..                                                 ...      ...\n",
       "603  Thus, the inclusion of food sources of dietary...    treat\n",
       "604  Glasshouse pathogenicity tests with 'Reed' avo...  neutral\n",
       "605  Intake of beverages with excess free fructose ...    cause\n",
       "606  However, some evidence exists regarding a pote...    treat\n",
       "607  There is no doubt that folic acid fortificatio...    treat\n",
       "\n",
       "[608 rows x 2 columns]"
      ]
     },
     "execution_count": 4,
     "metadata": {},
     "output_type": "execute_result"
    }
   ],
   "source": [
    "fulldata=prepare_dataset(\"./data/food_disease_dataset.csv\")\n",
    "fulldata"
   ]
  },
  {
   "cell_type": "markdown",
   "metadata": {},
   "source": [
    "**Notes on dataset**:\n",
    "- We had some problems with encodings for symbols from greek alphabet (alpha,beta,omega) so we replaced these symbols directly in the excel csv file.\n",
    "- Is_treat and is_cause boolean variables were transformed into target label with 3 levels (treat, cause, neutral)\n",
    "- no lemmatization or stop words removal was done for this version\n",
    "- only sentence and label are used => no relation extraction yet"
   ]
  },
  {
   "cell_type": "code",
   "execution_count": 3,
   "metadata": {},
   "outputs": [
    {
     "data": {
      "text/plain": [
       "treat      323\n",
       "neutral    144\n",
       "cause      141\n",
       "Name: target, dtype: int64"
      ]
     },
     "execution_count": 3,
     "metadata": {},
     "output_type": "execute_result"
    }
   ],
   "source": [
    "fulldata['target'].value_counts()"
   ]
  },
  {
   "cell_type": "markdown",
   "metadata": {},
   "source": [
    "**We can see that the dataset is unbalanced because there are 2x as many treat occurences as there are cause occurences. There are also a large amount of sentences with no treat or cause relation (\"neutral\")**"
   ]
  },
  {
   "cell_type": "markdown",
   "metadata": {},
   "source": [
    "**For Naive Bayes function from nltk package we need to transform the list of sentences and labels into a list of dictionaries** \n",
    "\n",
    "**(this transformation will take ~5 minutes)**"
   ]
  },
  {
   "cell_type": "code",
   "execution_count": 4,
   "metadata": {},
   "outputs": [],
   "source": [
    "t=transform_to_dictionary(fulldata)"
   ]
  },
  {
   "cell_type": "markdown",
   "metadata": {},
   "source": [
    "**Example how the data looks like before splitting into train and test datasets:** <br>\n",
    "**for every word in the dataset it is shown if this word was in a sentence that was related to \"Treat\" (=true) or not (=false)** "
   ]
  },
  {
   "cell_type": "code",
   "execution_count": 8,
   "metadata": {},
   "outputs": [],
   "source": [
    "# print(t[0])"
   ]
  },
  {
   "cell_type": "code",
   "execution_count": 6,
   "metadata": {},
   "outputs": [],
   "source": [
    "train_docs, dev_docs, test_docs = split_train_dev_test(t)"
   ]
  },
  {
   "cell_type": "markdown",
   "metadata": {},
   "source": [
    "## Naive Bayes Classifier (from nltk package)"
   ]
  },
  {
   "cell_type": "code",
   "execution_count": 32,
   "metadata": {},
   "outputs": [],
   "source": [
    "model = train_NaiveBayes(train_docs)"
   ]
  },
  {
   "cell_type": "code",
   "execution_count": 33,
   "metadata": {},
   "outputs": [
    {
     "name": "stdout",
     "output_type": "stream",
     "text": [
      "Most Informative Features\n",
      "             association = True           neutra : treat  =     14.1 : 1.0\n",
      "               allergies = True            cause : treat  =     12.6 : 1.0\n",
      "                 alcohol = True           neutra : treat  =     12.5 : 1.0\n",
      "              infectious = True           neutra : treat  =     11.5 : 1.0\n",
      "                   cause = True            cause : treat  =     11.1 : 1.0\n",
      "                exposure = True            cause : treat  =      9.6 : 1.0\n",
      "                 chicken = True           neutra : treat  =      9.5 : 1.0\n",
      "               increased = True            cause : treat  =      9.3 : 1.0\n",
      "           concentration = True           neutra : treat  =      9.1 : 1.0\n",
      "                 against = True            treat : cause  =      8.9 : 1.0\n",
      "                    than = True            cause : treat  =      8.1 : 1.0\n",
      "                 between = True           neutra : treat  =      8.0 : 1.0\n",
      "                   olive = True            treat : neutra =      7.9 : 1.0\n",
      "              bronchitis = True           neutra : cause  =      7.9 : 1.0\n",
      "                   flour = True            cause : treat  =      7.6 : 1.0\n",
      "                    salt = True            cause : treat  =      7.5 : 1.0\n",
      "                    body = True           neutra : treat  =      7.5 : 1.0\n",
      "               infection = True           neutra : treat  =      7.5 : 1.0\n",
      "                  muscle = True           neutra : treat  =      7.5 : 1.0\n",
      "                  reduce = True            treat : cause  =      6.8 : 1.0\n",
      "                     fat = True            cause : treat  =      6.7 : 1.0\n",
      "                increase = True            cause : treat  =      6.7 : 1.0\n",
      "               saturated = True            cause : treat  =      6.7 : 1.0\n",
      "                   wheat = True            cause : treat  =      6.7 : 1.0\n",
      "               allergens = True            cause : treat  =      6.7 : 1.0\n",
      "             cholesterol = True            cause : treat  =      6.7 : 1.0\n",
      "              dermatitis = True            cause : treat  =      6.7 : 1.0\n",
      "                     oil = True            treat : neutra =      6.3 : 1.0\n",
      "                       6 = True           neutra : treat  =      5.8 : 1.0\n",
      "                       : = True           neutra : treat  =      5.8 : 1.0\n"
     ]
    }
   ],
   "source": [
    "show_features(model)"
   ]
  },
  {
   "cell_type": "markdown",
   "metadata": {},
   "source": [
    "**We can see that the word \"allergies\" is often connected to Causes and interestingly the word \"against\" is often connected to Treats**"
   ]
  },
  {
   "cell_type": "code",
   "execution_count": 34,
   "metadata": {},
   "outputs": [
    {
     "name": "stdout",
     "output_type": "stream",
     "text": [
      "Overall Accuracy: 0.7580645161290323\n",
      "Cause precision: 0.75\n",
      "Cause recall: 0.5454545454545454\n",
      "Cause F-measure: 0.631578947368421\n",
      "Treat precision: 0.7674418604651163\n",
      "Treat recall: 0.9166666666666666\n",
      "Treat F-measure: 0.8354430379746836\n",
      "Neutral precision: 0.7272727272727273\n",
      "Neutral recall: 0.5333333333333333\n",
      "Neutral F-measure: 0.6153846153846154\n",
      "        |     n    |\n",
      "        |     e    |\n",
      "        |  c  u  t |\n",
      "        |  a  t  r |\n",
      "        |  u  r  e |\n",
      "        |  s  a  a |\n",
      "        |  e  l  t |\n",
      "--------+----------+\n",
      "  cause | <6> .  5 |\n",
      "neutral |  2 <8> 5 |\n",
      "  treat |  .  3<33>|\n",
      "--------+----------+\n",
      "(row = reference; col = test)\n",
      "\n"
     ]
    }
   ],
   "source": [
    "evaluate_nltk_nb(model,test_docs)"
   ]
  },
  {
   "cell_type": "markdown",
   "metadata": {},
   "source": [
    "### Discussion Naive Bayes Model (using NLTK package)"
   ]
  },
  {
   "cell_type": "markdown",
   "metadata": {},
   "source": [
    "- Overall Accuracy for this baseline model is 0.75 which is ok but also not great. \n",
    "- One problem could be the \"neutral\" label and excluding \"neutral\" labels may benefit the performance of the model\n",
    "- Treat label has higher metric scores than Cause label. The unbalanced data may be a factor here for the lower \"Cause\" metrics. Precision is similar over all 3 levels but there is noticable difference in performance when looking at F-measure and recall\n",
    "- One weakness of this approach is that the the transform process for having the dataset in the right format for this method takes a lot of time (~5 min) and other approaches only take a few seconds so this dictionary appraoch will not be suitable for further models for the next milestones\n",
    "- Strength of this approach is that building dictionarys leads to good results when taking into account that for this approach we did not use lemmatization or stopwords removal\n",
    "- One issue for further analysis and for the next milestones could be the small sample size of this dataset. When testing random sentences for classification a lot of words are not even in the word list of the model and therefore these words do not have any weights for generating a prediction."
   ]
  },
  {
   "cell_type": "markdown",
   "metadata": {},
   "source": [
    "### Testing model with random food related sentences from short google search"
   ]
  },
  {
   "cell_type": "code",
   "execution_count": 35,
   "metadata": {},
   "outputs": [
    {
     "data": {
      "text/plain": [
       "'cause'"
      ]
     },
     "execution_count": 35,
     "metadata": {},
     "output_type": "execute_result"
    }
   ],
   "source": [
    "test_prediction_for_new_sentence(fulldata,model,\"Ultra-processed foods tend to be high in sugar, artificial ingredients, refined carbohydrates, and trans fats.\")"
   ]
  },
  {
   "cell_type": "code",
   "execution_count": 36,
   "metadata": {},
   "outputs": [
    {
     "data": {
      "text/plain": [
       "'treat'"
      ]
     },
     "execution_count": 36,
     "metadata": {},
     "output_type": "execute_result"
    }
   ],
   "source": [
    "test_prediction_for_new_sentence(fulldata,model,\"Sunflower seeds are full of nutrients, including phosphorous, magnesium, and vitamins B-6 and E.\")"
   ]
  },
  {
   "cell_type": "code",
   "execution_count": 37,
   "metadata": {},
   "outputs": [
    {
     "data": {
      "text/plain": [
       "'cause'"
      ]
     },
     "execution_count": 37,
     "metadata": {},
     "output_type": "execute_result"
    }
   ],
   "source": [
    "test_prediction_for_new_sentence(fulldata,model,\"Consuming too much added sugar can raise blood pressure and increase chronic inflammation, both of which are pathological pathways to heart disease.\")"
   ]
  },
  {
   "cell_type": "markdown",
   "metadata": {},
   "source": [
    "**In all 3 cases the labeling makes sense. Ultra-processed foods and sugar should both be related to \"Causes\" and sunflower seeds are correctly classified here as \"Treat\"**"
   ]
  },
  {
   "cell_type": "markdown",
   "metadata": {},
   "source": [
    "# Different Approach with Stop Words removal and Lemmatization"
   ]
  },
  {
   "cell_type": "markdown",
   "metadata": {},
   "source": [
    "**We wanted to try a different approach where we remove the stop words from the sentences and also use a lemmatizer.\n",
    "For this approach we also try different sklearn classifiers.**"
   ]
  },
  {
   "cell_type": "markdown",
   "metadata": {},
   "source": [
    "**For this approach we remove stop words and use a lemmatizer within a function. After running this function we have a new processed data file with tokenized lemmatized sentences with removed stopwords**"
   ]
  },
  {
   "cell_type": "code",
   "execution_count": 202,
   "metadata": {},
   "outputs": [
    {
     "data": {
      "text/html": [
       "<div>\n",
       "<style scoped>\n",
       "    .dataframe tbody tr th:only-of-type {\n",
       "        vertical-align: middle;\n",
       "    }\n",
       "\n",
       "    .dataframe tbody tr th {\n",
       "        vertical-align: top;\n",
       "    }\n",
       "\n",
       "    .dataframe thead th {\n",
       "        text-align: right;\n",
       "    }\n",
       "</style>\n",
       "<table border=\"1\" class=\"dataframe\">\n",
       "  <thead>\n",
       "    <tr style=\"text-align: right;\">\n",
       "      <th></th>\n",
       "      <th>id</th>\n",
       "      <th>food_entity</th>\n",
       "      <th>disease_entity</th>\n",
       "      <th>sentence</th>\n",
       "      <th>disease_doid</th>\n",
       "      <th>is_cause</th>\n",
       "      <th>is_treat</th>\n",
       "    </tr>\n",
       "  </thead>\n",
       "  <tbody>\n",
       "    <tr>\n",
       "      <th>0</th>\n",
       "      <td>0</td>\n",
       "      <td>bombax ceiba l. (bombacaceae) fruits</td>\n",
       "      <td>urinary stones</td>\n",
       "      <td>interestingly, many indian tribes use bombax c...</td>\n",
       "      <td>NaN</td>\n",
       "      <td>0.0</td>\n",
       "      <td>1.0</td>\n",
       "    </tr>\n",
       "    <tr>\n",
       "      <th>1</th>\n",
       "      <td>1</td>\n",
       "      <td>ultra-processed food</td>\n",
       "      <td>obesity</td>\n",
       "      <td>ultra-processed food consumption has been asso...</td>\n",
       "      <td>DOID:9970</td>\n",
       "      <td>1.0</td>\n",
       "      <td>0.0</td>\n",
       "    </tr>\n",
       "    <tr>\n",
       "      <th>2</th>\n",
       "      <td>2</td>\n",
       "      <td>salt</td>\n",
       "      <td>osteoporosis</td>\n",
       "      <td>salt has notoriously been blamed for causing a...</td>\n",
       "      <td>DOID:11476</td>\n",
       "      <td>1.0</td>\n",
       "      <td>0.0</td>\n",
       "    </tr>\n",
       "    <tr>\n",
       "      <th>3</th>\n",
       "      <td>3</td>\n",
       "      <td>broiler chicken</td>\n",
       "      <td>footpad dermatitis</td>\n",
       "      <td>in broiler chicken flocks when animal-based me...</td>\n",
       "      <td>NaN</td>\n",
       "      <td>0.0</td>\n",
       "      <td>0.0</td>\n",
       "    </tr>\n",
       "    <tr>\n",
       "      <th>4</th>\n",
       "      <td>4</td>\n",
       "      <td>sfp</td>\n",
       "      <td>diabetes</td>\n",
       "      <td>in short, this study demonstrated that sfp cou...</td>\n",
       "      <td>DOID:9351</td>\n",
       "      <td>0.0</td>\n",
       "      <td>1.0</td>\n",
       "    </tr>\n",
       "    <tr>\n",
       "      <th>...</th>\n",
       "      <td>...</td>\n",
       "      <td>...</td>\n",
       "      <td>...</td>\n",
       "      <td>...</td>\n",
       "      <td>...</td>\n",
       "      <td>...</td>\n",
       "      <td>...</td>\n",
       "    </tr>\n",
       "    <tr>\n",
       "      <th>603</th>\n",
       "      <td>603</td>\n",
       "      <td>nuts</td>\n",
       "      <td>atherosclerosis</td>\n",
       "      <td>thus, the inclusion of food sources of dietary...</td>\n",
       "      <td>DOID:1936</td>\n",
       "      <td>0.0</td>\n",
       "      <td>1.0</td>\n",
       "    </tr>\n",
       "    <tr>\n",
       "      <th>604</th>\n",
       "      <td>604</td>\n",
       "      <td>persea americana</td>\n",
       "      <td>wilting</td>\n",
       "      <td>glasshouse pathogenicity tests with 'reed' avo...</td>\n",
       "      <td>NaN</td>\n",
       "      <td>0.0</td>\n",
       "      <td>0.0</td>\n",
       "    </tr>\n",
       "    <tr>\n",
       "      <th>605</th>\n",
       "      <td>605</td>\n",
       "      <td>apple juice</td>\n",
       "      <td>asthma</td>\n",
       "      <td>intake of beverages with excess free fructose ...</td>\n",
       "      <td>DOID:2841</td>\n",
       "      <td>1.0</td>\n",
       "      <td>0.0</td>\n",
       "    </tr>\n",
       "    <tr>\n",
       "      <th>606</th>\n",
       "      <td>606</td>\n",
       "      <td>coffee</td>\n",
       "      <td>pd</td>\n",
       "      <td>however, some evidence exists regarding a pote...</td>\n",
       "      <td>NaN</td>\n",
       "      <td>0.0</td>\n",
       "      <td>1.0</td>\n",
       "    </tr>\n",
       "    <tr>\n",
       "      <th>607</th>\n",
       "      <td>607</td>\n",
       "      <td>folic acid fortification</td>\n",
       "      <td>neural tube defects</td>\n",
       "      <td>there is no doubt that folic acid fortificatio...</td>\n",
       "      <td>DOID:0080074</td>\n",
       "      <td>0.0</td>\n",
       "      <td>1.0</td>\n",
       "    </tr>\n",
       "  </tbody>\n",
       "</table>\n",
       "<p>608 rows × 7 columns</p>\n",
       "</div>"
      ],
      "text/plain": [
       "      id                           food_entity       disease_entity  \\\n",
       "0      0  bombax ceiba l. (bombacaceae) fruits       urinary stones   \n",
       "1      1                  ultra-processed food              obesity   \n",
       "2      2                                  salt         osteoporosis   \n",
       "3      3                       broiler chicken   footpad dermatitis   \n",
       "4      4                                   sfp             diabetes   \n",
       "..   ...                                   ...                  ...   \n",
       "603  603                                  nuts      atherosclerosis   \n",
       "604  604                      persea americana              wilting   \n",
       "605  605                           apple juice               asthma   \n",
       "606  606                                coffee                   pd   \n",
       "607  607              folic acid fortification  neural tube defects   \n",
       "\n",
       "                                              sentence  disease_doid  \\\n",
       "0    interestingly, many indian tribes use bombax c...           NaN   \n",
       "1    ultra-processed food consumption has been asso...     DOID:9970   \n",
       "2    salt has notoriously been blamed for causing a...    DOID:11476   \n",
       "3    in broiler chicken flocks when animal-based me...           NaN   \n",
       "4    in short, this study demonstrated that sfp cou...     DOID:9351   \n",
       "..                                                 ...           ...   \n",
       "603  thus, the inclusion of food sources of dietary...     DOID:1936   \n",
       "604  glasshouse pathogenicity tests with 'reed' avo...           NaN   \n",
       "605  intake of beverages with excess free fructose ...     DOID:2841   \n",
       "606  however, some evidence exists regarding a pote...           NaN   \n",
       "607  there is no doubt that folic acid fortificatio...  DOID:0080074   \n",
       "\n",
       "     is_cause  is_treat  \n",
       "0         0.0       1.0  \n",
       "1         1.0       0.0  \n",
       "2         1.0       0.0  \n",
       "3         0.0       0.0  \n",
       "4         0.0       1.0  \n",
       "..        ...       ...  \n",
       "603       0.0       1.0  \n",
       "604       0.0       0.0  \n",
       "605       1.0       0.0  \n",
       "606       0.0       1.0  \n",
       "607       0.0       1.0  \n",
       "\n",
       "[608 rows x 7 columns]"
      ]
     },
     "execution_count": 202,
     "metadata": {},
     "output_type": "execute_result"
    }
   ],
   "source": [
    "import pandas as pd\n",
    "import re\n",
    "from nltk.tokenize import word_tokenize\n",
    "df_entities = pd.read_csv('./data/food_disease_dataset.csv')\n",
    "df_entities['sentence'] = df_entities['sentence'].str.lower()\n",
    "df_entities.columns = ['id', 'food_entity', 'disease_entity', 'sentence',\n",
    "       'disease_doid', 'is_cause', 'is_treat']\n",
    "\n",
    "df_entities"
   ]
  },
  {
   "cell_type": "code",
   "execution_count": 203,
   "metadata": {},
   "outputs": [],
   "source": [
    "df_entities['work_sentence'] = df_entities.apply(lambda x: \n",
    "    x['sentence'].replace(x['food_entity'], 'food_entity').replace(x['disease_entity'], 'disease_entity'), axis=1)"
   ]
  },
  {
   "cell_type": "code",
   "execution_count": 205,
   "metadata": {},
   "outputs": [],
   "source": [
    "df_entities['work_sentence'] = df_entities.apply(lambda x: re.search(r\"(?:[a-zA-Z'-]+[^a-zA-Z'-]+){0,5}entity.*entity(?:[^a-zA-Z'-]+[a-zA-Z'-]+){0,5}\", x['work_sentence']).group(0) if\n",
    "    re.search(r\"(?:[a-zA-Z'-]+[^a-zA-Z'-]+){0,5}entity.*entity(?:[^a-zA-Z'-]+[a-zA-Z'-]+){0,5}\", x['work_sentence']) else x['sentence'], axis=1)"
   ]
  },
  {
   "cell_type": "code",
   "execution_count": 206,
   "metadata": {},
   "outputs": [],
   "source": [
    "df_entities['work_sentence'] = df_entities.apply(lambda x: \n",
    "    x['work_sentence'].replace('food_entity', x['food_entity']).replace('disease_entity', x['disease_entity']), axis=1)"
   ]
  },
  {
   "cell_type": "code",
   "execution_count": 207,
   "metadata": {},
   "outputs": [],
   "source": [
    "df_entities['sentence'] = df_entities['work_sentence']"
   ]
  },
  {
   "cell_type": "code",
   "execution_count": 209,
   "metadata": {},
   "outputs": [
    {
     "data": {
      "text/plain": [
       "0      many indian tribes use bombax ceiba l. (bombac...\n",
       "1      ultra-processed food consumption has been asso...\n",
       "2      salt has notoriously been blamed for causing a...\n",
       "3      in broiler chicken flocks when animal-based me...\n",
       "4      this study demonstrated that sfp could be deve...\n",
       "                             ...                        \n",
       "603    as different kinds of nuts, may improve biomar...\n",
       "604    tests with 'reed' avocado (persea americana) s...\n",
       "605    free fructose (eff), including apple juice, an...\n",
       "606    acid, poly-unsaturated fatty acids, coffee, an...\n",
       "607    is no doubt that folic acid fortification can ...\n",
       "Name: sentence, Length: 608, dtype: object"
      ]
     },
     "execution_count": 209,
     "metadata": {},
     "output_type": "execute_result"
    }
   ],
   "source": [
    "df_entities['sentence']"
   ]
  },
  {
   "cell_type": "code",
   "execution_count": 210,
   "metadata": {},
   "outputs": [],
   "source": [
    "df_entities.to_csv(\"./data/food_disease_dataset_cut.csv\")"
   ]
  },
  {
   "cell_type": "code",
   "execution_count": 211,
   "metadata": {},
   "outputs": [],
   "source": [
    "fulldata=prepare_dataset(\"./data/food_disease_dataset_cut.csv\")"
   ]
  },
  {
   "cell_type": "code",
   "execution_count": 5,
   "metadata": {},
   "outputs": [],
   "source": [
    "fulldata_lemmatized=lemmatize_dataset(fulldata)"
   ]
  },
  {
   "cell_type": "markdown",
   "metadata": {},
   "source": [
    "## Using 3 classes (treat, cause, neutral)"
   ]
  },
  {
   "cell_type": "markdown",
   "metadata": {},
   "source": [
    "**Split data into train and test sets.**"
   ]
  },
  {
   "cell_type": "code",
   "execution_count": 6,
   "metadata": {},
   "outputs": [],
   "source": [
    "X_train, X_test, y_train, y_test = split_train_test_sklearn(fulldata_lemmatized)"
   ]
  },
  {
   "cell_type": "markdown",
   "metadata": {},
   "source": [
    "**Count the words and compute term frequencies and inversed document frequencies to be used as an input for a Multinomial Naive Bayes classifier.**"
   ]
  },
  {
   "cell_type": "code",
   "execution_count": 112,
   "metadata": {},
   "outputs": [],
   "source": [
    "multi_nb_model=train_multi_nb_classifier(X_train, y_train)"
   ]
  },
  {
   "cell_type": "code",
   "execution_count": 216,
   "metadata": {},
   "outputs": [
    {
     "name": "stdout",
     "output_type": "stream",
     "text": [
      "Model eval (separate for each label: ['cause' 'treat' 'neutral'])\n",
      "precision: [0.77777778 0.53333333 1.        ]\n",
      "recall: [0.24137931 1.         0.21621622]\n",
      "f-score: [0.36842105 0.69565217 0.35555556]\n",
      "number of occurences of each label: [29 56 37]\n",
      "\n",
      "Model eval (micro)\n",
      "precision: 0.5819672131147541\n",
      "recall: 0.5819672131147541\n",
      "f-score: 0.5819672131147541\n",
      "\n",
      "Model eval (macro)\n",
      "precision: 0.7703703703703703\n",
      "recall: 0.48586517552034797\n",
      "f-score: 0.47320959403339274\n",
      "\n"
     ]
    },
    {
     "data": {
      "image/png": "[encoded data removed]",
      "text/plain": [
       "<Figure size 360x216 with 2 Axes>"
      ]
     },
     "metadata": {
      "needs_background": "light"
     },
     "output_type": "display_data"
    }
   ],
   "source": [
    "# model on sentence from paper\n",
    "eval_model(multi_nb_model, X_test, y_test)"
   ]
  },
  {
   "cell_type": "code",
   "execution_count": 9,
   "metadata": {},
   "outputs": [
    {
     "name": "stdout",
     "output_type": "stream",
     "text": [
      "Model eval (separate for each label: ['cause' 'treat' 'neutral'])\n",
      "precision: [0.83333333 0.50909091 1.        ]\n",
      "recall: [0.17241379 1.         0.16216216]\n",
      "f-score: [0.28571429 0.6746988  0.27906977]\n",
      "number of occurences of each label: [29 56 37]\n",
      "\n",
      "Model eval (micro)\n",
      "precision: 0.5491803278688525\n",
      "recall: 0.5491803278688525\n",
      "f-score: 0.5491803278688525\n",
      "\n",
      "Model eval (macro)\n",
      "precision: 0.7808080808080807\n",
      "recall: 0.44485865175520356\n",
      "f-score: 0.41316094944562304\n",
      "\n"
     ]
    },
    {
     "data": {
      "image/png": "[encoded data removed]",
      "text/plain": [
       "<Figure size 500x300 with 2 Axes>"
      ]
     },
     "metadata": {},
     "output_type": "display_data"
    }
   ],
   "source": [
    "eval_model(multi_nb_model, X_test, y_test)"
   ]
  },
  {
   "cell_type": "markdown",
   "metadata": {},
   "source": [
    "**The result is not good and not bad. The prediction largely depends on the class: the model clearly prefers \"treat\" label to other labels. It also performs worst for the \"neutral\" sentences, which don't describe neither treat nor cause of a disease.**"
   ]
  },
  {
   "cell_type": "markdown",
   "metadata": {},
   "source": [
    "**Support Vector Machine Classifier performs much better, although the trend of favouring the \"treat\" class more and \"neutral\" being the worst predicted class remains.**"
   ]
  },
  {
   "cell_type": "code",
   "execution_count": 248,
   "metadata": {},
   "outputs": [],
   "source": [
    "t, svm_classifier = train_svm_classifier(X_train, y_train, (1, 3))"
   ]
  },
  {
   "cell_type": "code",
   "execution_count": 17,
   "metadata": {},
   "outputs": [],
   "source": [
    "y_train_neutral = y_train.replace({'treat': 'not-neutral', 'cause': 'not-neutral'})\n",
    "y_test_neutral = y_test.replace({'treat': 'not-neutral', 'cause': 'not-neutral'})"
   ]
  },
  {
   "cell_type": "code",
   "execution_count": 46,
   "metadata": {},
   "outputs": [],
   "source": [
    "from tuwnlpie.milestone1.model import TwoStepSVMClassifier"
   ]
  },
  {
   "cell_type": "code",
   "execution_count": 50,
   "metadata": {},
   "outputs": [
    {
     "name": "stdout",
     "output_type": "stream",
     "text": [
      "Model eval (separate for each label: ['cause' 'treat' 'neutral'])\n",
      "precision: [0.71428571 0.74242424 0.78571429]\n",
      "recall: [0.68965517 0.875      0.59459459]\n",
      "f-score: [0.70175439 0.80327869 0.67692308]\n",
      "number of occurences of each label: [29 56 37]\n",
      "\n",
      "Model eval (micro)\n",
      "precision: 0.7459016393442623\n",
      "recall: 0.7459016393442623\n",
      "f-score: 0.7459016393442623\n",
      "\n",
      "Model eval (macro)\n",
      "precision: 0.7474747474747474\n",
      "recall: 0.7197499223361293\n",
      "f-score: 0.7273187171375265\n",
      "\n"
     ]
    },
    {
     "data": {
      "image/png": "[encoded data removed]",
      "text/plain": [
       "<Figure size 360x216 with 2 Axes>"
      ]
     },
     "metadata": {
      "needs_background": "light"
     },
     "output_type": "display_data"
    }
   ],
   "source": [
    "two_svm = TwoStepSVMClassifier(n_gram_range=(1,1))\n",
    "two_svm.fit(X_train, y_train)\n",
    "eval_model(two_svm, X_test, y_test, binary=False)"
   ]
  },
  {
   "cell_type": "code",
   "execution_count": 26,
   "metadata": {},
   "outputs": [],
   "source": [
    "y_pred = svm_classifier.predict(t.transform(X_test))"
   ]
  },
  {
   "cell_type": "code",
   "execution_count": 42,
   "metadata": {},
   "outputs": [
    {
     "data": {
      "text/plain": [
       "343      cause\n",
       "218      cause\n",
       "420      cause\n",
       "299      treat\n",
       "155      treat\n",
       "        ...   \n",
       "110    neutral\n",
       "502      treat\n",
       "46       cause\n",
       "447    neutral\n",
       "68       cause\n",
       "Name: target, Length: 119, dtype: object"
      ]
     },
     "execution_count": 42,
     "metadata": {},
     "output_type": "execute_result"
    }
   ],
   "source": [
    "import numpy as np\n",
    "y_test.iloc[np.where(y_pred == 'not-neutral')[0]]"
   ]
  },
  {
   "cell_type": "code",
   "execution_count": 54,
   "metadata": {},
   "outputs": [
    {
     "name": "stdout",
     "output_type": "stream",
     "text": [
      "Model eval\n",
      "precision: [0.70588235 0.55789474 0.9       ]\n",
      "recall: [0.4137931  0.94642857 0.24324324]\n",
      "f-score: [0.52173913 0.70198675 0.38297872]\n",
      "number of occurences of each label (from ['cause' 'treat' 'neutral']): [29 56 37]\n",
      "\n"
     ]
    },
    {
     "data": {
      "image/png": "[encoded data removed]",
      "text/plain": [
       "<Figure size 360x216 with 2 Axes>"
      ]
     },
     "metadata": {
      "needs_background": "light"
     },
     "output_type": "display_data"
    }
   ],
   "source": [
    "t, svm_classifier = train_svm_classifier(X_train, y_train, (1, 1))\n",
    "eval_model(svm_classifier, t.transform(X_test), y_test, binary=True)"
   ]
  },
  {
   "cell_type": "code",
   "execution_count": 9,
   "metadata": {},
   "outputs": [
    {
     "name": "stdout",
     "output_type": "stream",
     "text": [
      "Model eval\n",
      "precision: [0.71428571 0.70666667 0.89473684]\n",
      "recall: [0.68965517 0.94642857 0.45945946]\n",
      "f-score: [0.70175439 0.80916031 0.60714286]\n",
      "number of occurences of each label (from ['cause' 'treat' 'neutral']): [29 56 37]\n",
      "\n"
     ]
    },
    {
     "data": {
      "image/png": "[encoded data removed]",
      "text/plain": [
       "<Figure size 360x216 with 2 Axes>"
      ]
     },
     "metadata": {
      "needs_background": "light"
     },
     "output_type": "display_data"
    }
   ],
   "source": [
    "# model with trigrams on sentence from paper\n",
    "t, svm_classifier = train_svm_classifier(X_train, y_train, (1, 2))\n",
    "eval_model(svm_classifier, t.transform(X_test), y_test, binary=True)"
   ]
  },
  {
   "cell_type": "code",
   "execution_count": 249,
   "metadata": {},
   "outputs": [
    {
     "name": "stdout",
     "output_type": "stream",
     "text": [
      "Model eval (separate for each label: ['cause' 'treat' 'neutral'])\n",
      "precision: [0.76923077 0.68292683 1.        ]\n",
      "recall: [0.68965517 1.         0.37837838]\n",
      "f-score: [0.72727273 0.8115942  0.54901961]\n",
      "number of occurences of each label: [29 56 37]\n",
      "\n",
      "Model eval (micro)\n",
      "precision: 0.7377049180327869\n",
      "recall: 0.7377049180327869\n",
      "f-score: 0.7377049180327869\n",
      "\n",
      "Model eval (macro)\n",
      "precision: 0.817385866166354\n",
      "recall: 0.6893445169307238\n",
      "f-score: 0.6959621793381384\n",
      "\n"
     ]
    },
    {
     "data": {
      "image/png": "[encoded data removed]",
      "text/plain": [
       "<Figure size 360x216 with 2 Axes>"
      ]
     },
     "metadata": {
      "needs_background": "light"
     },
     "output_type": "display_data"
    }
   ],
   "source": [
    "# model with bigrams on sentence from paper\n",
    "eval_model(svm_classifier, t.transform(X_test), y_test)"
   ]
  },
  {
   "cell_type": "code",
   "execution_count": 215,
   "metadata": {},
   "outputs": [
    {
     "name": "stdout",
     "output_type": "stream",
     "text": [
      "Model eval (separate for each label: ['cause' 'treat' 'neutral'])\n",
      "precision: [0.65384615 0.68493151 0.65217391]\n",
      "recall: [0.5862069  0.89285714 0.40540541]\n",
      "f-score: [0.61818182 0.7751938  0.5       ]\n",
      "number of occurences of each label: [29 56 37]\n",
      "\n",
      "Model eval (micro)\n",
      "precision: 0.6721311475409836\n",
      "recall: 0.6721311475409836\n",
      "f-score: 0.6721311475409836\n",
      "\n",
      "Model eval (macro)\n",
      "precision: 0.663650524579649\n",
      "recall: 0.6281564816047575\n",
      "f-score: 0.6311252055438102\n",
      "\n"
     ]
    },
    {
     "data": {
      "image/png": "[encoded data removed]",
      "text/plain": [
       "<Figure size 360x216 with 2 Axes>"
      ]
     },
     "metadata": {
      "needs_background": "light"
     },
     "output_type": "display_data"
    }
   ],
   "source": [
    "# model on sentence from paper\n",
    "eval_model(svm_classifier, X_test, y_test)"
   ]
  },
  {
   "cell_type": "code",
   "execution_count": 14,
   "metadata": {},
   "outputs": [
    {
     "name": "stdout",
     "output_type": "stream",
     "text": [
      "Model eval (separate for each label: ['cause' 'treat' 'neutral'])\n",
      "precision: [0.74074074 0.71830986 0.83333333]\n",
      "recall: [0.68965517 0.91071429 0.54054054]\n",
      "f-score: [0.71428571 0.80314961 0.6557377 ]\n",
      "number of occurences of each label: [29 56 37]\n",
      "\n",
      "Model eval (micro)\n",
      "precision: 0.7459016393442623\n",
      "recall: 0.7459016393442623\n",
      "f-score: 0.7459016393442623\n",
      "\n",
      "Model eval (macro)\n",
      "precision: 0.7641279777430013\n",
      "recall: 0.7136366662228731\n",
      "f-score: 0.7243910085009867\n",
      "\n"
     ]
    },
    {
     "data": {
      "image/png": "[encoded data removed]",
      "text/plain": [
       "<Figure size 360x216 with 2 Axes>"
      ]
     },
     "metadata": {
      "needs_background": "light"
     },
     "output_type": "display_data"
    }
   ],
   "source": [
    "eval_model(svm_classifier, X_test, y_test)"
   ]
  },
  {
   "cell_type": "markdown",
   "metadata": {},
   "source": [
    "## Using 2 classes (treat, cause)"
   ]
  },
  {
   "cell_type": "markdown",
   "metadata": {},
   "source": [
    "**Becaus the neutral class confused the model and we are not sure if it is relevant for the classification task, we tried the classification only on two \"opposite\" classes. The results improved for both models.**"
   ]
  },
  {
   "cell_type": "code",
   "execution_count": 276,
   "metadata": {},
   "outputs": [],
   "source": [
    "X_train, X_test, y_train, y_test = split_train_test_sklearn(fulldata_lemmatized[(fulldata_lemmatized.target == 'treat') | (fulldata_lemmatized.target == 'cause')])"
   ]
  },
  {
   "cell_type": "code",
   "execution_count": 13,
   "metadata": {},
   "outputs": [],
   "source": [
    "multi_nb_model=train_multi_nb_classifier(X_train, y_train)"
   ]
  },
  {
   "cell_type": "code",
   "execution_count": 14,
   "metadata": {},
   "outputs": [
    {
     "name": "stdout",
     "output_type": "stream",
     "text": [
      "Model eval\n",
      "precision: [0.85 1.  ]\n",
      "recall: [1.   0.52]\n",
      "f-score: [0.91891892 0.68421053]\n",
      "number of occurences of each label (from ['treat' 'cause']): [68 25]\n",
      "\n"
     ]
    },
    {
     "data": {
      "image/png": "[encoded data removed]",
      "text/plain": [
       "<Figure size 500x300 with 2 Axes>"
      ]
     },
     "metadata": {},
     "output_type": "display_data"
    }
   ],
   "source": [
    "eval_model(multi_nb_model, X_test, y_test, binary=True)"
   ]
  },
  {
   "cell_type": "code",
   "execution_count": 259,
   "metadata": {},
   "outputs": [],
   "source": [
    "svm_classifier = train_svm_classifier(X_train, y_train)"
   ]
  },
  {
   "cell_type": "code",
   "execution_count": 281,
   "metadata": {},
   "outputs": [
    {
     "name": "stdout",
     "output_type": "stream",
     "text": [
      "Model eval\n",
      "precision: [0.91549296 0.86363636]\n",
      "recall: [0.95588235 0.76      ]\n",
      "f-score: [0.9352518  0.80851064]\n",
      "number of occurences of each label (from ['treat' 'cause']): [68 25]\n",
      "\n"
     ]
    },
    {
     "data": {
      "image/png": "[encoded data removed]",
      "text/plain": [
       "<Figure size 360x216 with 2 Axes>"
      ]
     },
     "metadata": {
      "needs_background": "light"
     },
     "output_type": "display_data"
    }
   ],
   "source": [
    "# model with bigrams on full sentence\n",
    "t, svm_classifier = train_svm_classifier(X_train, y_train, (1,2))\n",
    "eval_model(svm_classifier, t.transform(X_test), y_test, binary=True)"
   ]
  },
  {
   "cell_type": "code",
   "execution_count": 282,
   "metadata": {},
   "outputs": [
    {
     "name": "stdout",
     "output_type": "stream",
     "text": [
      "Model eval\n",
      "precision: [0.90277778 0.85714286]\n",
      "recall: [0.95588235 0.72      ]\n",
      "f-score: [0.92857143 0.7826087 ]\n",
      "number of occurences of each label (from ['treat' 'cause']): [68 25]\n",
      "\n"
     ]
    },
    {
     "data": {
      "image/png": "[encoded data removed]",
      "text/plain": [
       "<Figure size 360x216 with 2 Axes>"
      ]
     },
     "metadata": {
      "needs_background": "light"
     },
     "output_type": "display_data"
    }
   ],
   "source": [
    "# model with bigrams on sentence \n",
    "t, svm_classifier = train_svm_classifier(X_train, y_train, (1,1))\n",
    "eval_model(svm_classifier, t.transform(X_test), y_test, binary=True)"
   ]
  },
  {
   "cell_type": "code",
   "execution_count": 246,
   "metadata": {},
   "outputs": [
    {
     "name": "stdout",
     "output_type": "stream",
     "text": [
      "Model eval\n",
      "precision: [0.92957746 0.90909091]\n",
      "recall: [0.97058824 0.8       ]\n",
      "f-score: [0.94964029 0.85106383]\n",
      "number of occurences of each label (from ['treat' 'cause']): [68 25]\n",
      "\n"
     ]
    },
    {
     "data": {
      "image/png": "[encoded data removed]",
      "text/plain": [
       "<Figure size 360x216 with 2 Axes>"
      ]
     },
     "metadata": {
      "needs_background": "light"
     },
     "output_type": "display_data"
    }
   ],
   "source": [
    "# model with trigrams on sentence from paper\n",
    "t, svm_classifier = train_svm_classifier(X_train, y_train, (1, 3))\n",
    "eval_model(svm_classifier, t.transform(X_test), y_test, binary=True)"
   ]
  },
  {
   "cell_type": "code",
   "execution_count": 16,
   "metadata": {},
   "outputs": [
    {
     "name": "stdout",
     "output_type": "stream",
     "text": [
      "Model eval\n",
      "precision: [0.90140845 0.81818182]\n",
      "recall: [0.94117647 0.72      ]\n",
      "f-score: [0.92086331 0.76595745]\n",
      "number of occurences of each label (from ['treat' 'cause']): [68 25]\n",
      "\n"
     ]
    },
    {
     "data": {
      "image/png": "[encoded data removed]",
      "text/plain": [
       "<Figure size 500x300 with 2 Axes>"
      ]
     },
     "metadata": {},
     "output_type": "display_data"
    }
   ],
   "source": [
    "eval_model(svm_classifier, X_test, y_test, binary=True)"
   ]
  },
  {
   "cell_type": "markdown",
   "metadata": {},
   "source": [
    "## Undersampling treat class"
   ]
  },
  {
   "cell_type": "markdown",
   "metadata": {},
   "source": [
    "**The dataset is pretty imbalanced, \"treat\" has a much larger number of samples, so we tried to undersample it and see if it would improve predictions for other classes.**"
   ]
  },
  {
   "cell_type": "markdown",
   "metadata": {},
   "source": [
    "**Undersampling the treat class because it's largely imbalanced**"
   ]
  },
  {
   "cell_type": "code",
   "execution_count": 17,
   "metadata": {},
   "outputs": [],
   "source": [
    "undersampled_df=undersampling_dataset(fulldata_lemmatized)"
   ]
  },
  {
   "cell_type": "code",
   "execution_count": 18,
   "metadata": {},
   "outputs": [],
   "source": [
    "X_train, X_test, y_train, y_test = split_train_test_sklearn(undersampled_df)"
   ]
  },
  {
   "cell_type": "code",
   "execution_count": 19,
   "metadata": {},
   "outputs": [],
   "source": [
    "multi_nb_model=train_multi_nb_classifier(X_train, y_train)"
   ]
  },
  {
   "cell_type": "markdown",
   "metadata": {},
   "source": [
    "**MultinomialNB works better on a \"balanced\" dataset, but the performance of SVM on imbalanced dataset is still better.**"
   ]
  },
  {
   "cell_type": "code",
   "execution_count": 20,
   "metadata": {},
   "outputs": [
    {
     "name": "stdout",
     "output_type": "stream",
     "text": [
      "Model eval (separate for each label: ['neutral' 'cause' 'treat'])\n",
      "precision: [0.76470588 0.7037037  0.48837209]\n",
      "recall: [0.43333333 0.55882353 0.91304348]\n",
      "f-score: [0.55319149 0.62295082 0.63636364]\n",
      "number of occurences of each label: [30 34 23]\n",
      "\n",
      "Model eval (micro)\n",
      "precision: 0.6091954022988506\n",
      "recall: 0.6091954022988506\n",
      "f-score: 0.6091954022988506\n",
      "\n",
      "Model eval (macro)\n",
      "precision: 0.6522605596933002\n",
      "recall: 0.6350667803353226\n",
      "f-score: 0.6041686484658232\n",
      "\n"
     ]
    },
    {
     "data": {
      "image/png": "[encoded data removed]",
      "text/plain": [
       "<Figure size 500x300 with 2 Axes>"
      ]
     },
     "metadata": {},
     "output_type": "display_data"
    }
   ],
   "source": [
    "eval_model(multi_nb_model, X_test, y_test, binary=False)"
   ]
  },
  {
   "cell_type": "markdown",
   "metadata": {},
   "source": [
    "**Undersampling only influences the SVM classifier negatively.**"
   ]
  },
  {
   "cell_type": "code",
   "execution_count": 21,
   "metadata": {},
   "outputs": [],
   "source": [
    "svm_classifier = train_svm_classifier(X_train, y_train)"
   ]
  },
  {
   "cell_type": "code",
   "execution_count": 22,
   "metadata": {},
   "outputs": [
    {
     "name": "stdout",
     "output_type": "stream",
     "text": [
      "Model eval (separate for each label: ['neutral' 'cause' 'treat'])\n",
      "precision: [0.77272727 0.74193548 0.58823529]\n",
      "recall: [0.56666667 0.67647059 0.86956522]\n",
      "f-score: [0.65384615 0.70769231 0.70175439]\n",
      "number of occurences of each label: [30 34 23]\n",
      "\n",
      "Model eval (micro)\n",
      "precision: 0.6896551724137931\n",
      "recall: 0.6896551724137931\n",
      "f-score: 0.6896551724137931\n",
      "\n",
      "Model eval (macro)\n",
      "precision: 0.7009660169052959\n",
      "recall: 0.7042341574310883\n",
      "f-score: 0.6877642825011246\n",
      "\n"
     ]
    },
    {
     "data": {
      "image/png": "[encoded data removed]",
      "text/plain": [
       "<Figure size 500x300 with 2 Axes>"
      ]
     },
     "metadata": {},
     "output_type": "display_data"
    }
   ],
   "source": [
    "eval_model(svm_classifier, X_test, y_test)"
   ]
  },
  {
   "cell_type": "markdown",
   "metadata": {},
   "source": [
    "# Overall Discussion for different approaches:\n",
    "- When comparing the two Naive Bayes Models for the dataset with 3 target levels the first approach with NLTK package has slightly better results than the one using the MultinomialNB from sklearn package. The F-Score for all 3 levels is slightly better for the NLTK version. But it also has to be mentioned that both versions use very different data structures and the dictionary structure from NLTK has were slow computing time\n",
    "- The SVM for the dataset with 3 target levels performed much better than both Naive bayes models. It provides good performance over all 3 target levels but still favors the most dominant class in the dataset, the \"treat\" label.\n",
    "- We also tried two approaches to improve results: using a binary target class and using undersampling to reduce the bias in the prediction of labels\n",
    "- When using a binary target the results improved for the treat class but for the \"cause\" class the improvements where only small. \n",
    "- Undersampling the treat class to counter the imbalanceness in the target variable showed different results when comparing Naive Bayes model to the SVM model. For the Naive Bayes model the performance improved but for the SVM model the performance dropped slightly and therefore is not recommendable to use for further approaches. "
   ]
  }
 ],
 "metadata": {
  "kernelspec": {
   "display_name": "Python 3.9.1 64-bit",
   "language": "python",
   "name": "python3"
  },
  "language_info": {
   "codemirror_mode": {
    "name": "ipython",
    "version": 3
   },
   "file_extension": ".py",
   "mimetype": "text/x-python",
   "name": "python",
   "nbconvert_exporter": "python",
   "pygments_lexer": "ipython3",
   "version": "3.9.1"
  },
  "vscode": {
   "interpreter": {
    "hash": "aee8b7b246df8f9039afb4144a1f6fd8d2ca17a180786b69acc140d282b71a49"
   }
  }
 },
 "nbformat": 4,
 "nbformat_minor": 2
}
